{
 "cells": [
  {
   "cell_type": "code",
   "execution_count": 30,
   "metadata": {},
   "outputs": [
    {
     "data": {
      "text/plain": [
       "'3.5.66'"
      ]
     },
     "execution_count": 30,
     "metadata": {},
     "output_type": "execute_result"
    }
   ],
   "source": [
    "import reportlab\n",
    "reportlab.__version__"
   ]
  },
  {
   "cell_type": "code",
   "execution_count": 29,
   "metadata": {},
   "outputs": [],
   "source": [
    "#coding=utf-8\n",
    "# 基础包\n",
    "from reportlab.lib.styles import getSampleStyleSheet\n",
    "from reportlab.platypus import Paragraph, SimpleDocTemplate, Spacer, Table\n",
    "from reportlab.lib.units import inch\n",
    "from reportlab.lib import colors\n",
    "\n",
    "# 中文支持\n",
    "from reportlab.pdfbase.ttfonts import TTFont\n",
    "from reportlab.pdfbase import pdfmetrics\n",
    "from reportlab.lib.styles import ParagraphStyle\n",
    "from reportlab.lib.enums import TA_CENTER, TA_LEFT\n",
    "\n",
    "# pdfmetrics.registerFont(TTFont('apple', 'SimHei.ttf')) #注册字体\n",
    "pdfmetrics.registerFont(TTFont('hei', 'simhei.ttf'))\n",
    "mystyle = ParagraphStyle(name=\"user_style\", fontName=\"hei\",alignment=TA_CENTER,)\n",
    "pdf = SimpleDocTemplate('001.pdf')\n",
    "style = getSampleStyleSheet()\n",
    "# mystyle = style['Normal'] #默认样式，可以使用style.lsit()查看所有默认样式\n",
    "contents = []\n",
    "t1 = Paragraph('你好reportlab!', style=mystyle)\n",
    "contents.append(t1)\n",
    "contents.append(Spacer(1,0.2*inch))\n",
    "contents.append(t1)\n",
    "contents.append(Spacer(1,0.2*inch))\n",
    "str1=\"\"\"目击众神死亡的草原上野花一片\n",
    "远在远方的风比远方更远\n",
    "我的琴声呜咽 泪水全无\n",
    "我把这远方的远归还草原\n",
    "一个叫木头 一个叫马尾\n",
    "我的琴声呜咽 泪水全无\n",
    "\"\"\"\n",
    "for i in str1.split('\\n'):\n",
    "    contents.append(Paragraph(i, style=mystyle))\n",
    "\n",
    "contents.append(t1)\n",
    "contents.append(Spacer(1,0.2*inch))\n",
    "contents.append(t1)\n",
    "contents.append(t1)\n",
    "contents.append(t1)\n",
    "\n",
    "\n",
    "table_style = [\n",
    "    ('FONTNAME', (0, 0), (-1, -1), 'hei'),  # 字体\n",
    "    ('ALIGN', (0, 0), (-1, -1), 'CENTER'),  # 对齐\n",
    "    ('VALIGN', (-1, 0), (-2, 0), 'MIDDLE'),  # 对齐\n",
    "    #('BACKGROUND', (0, 0), (-1, 0), colors.black),\n",
    "    ('GRID', (0, 0), (-1, -1), 0.5, colors.grey),  # 设置表格框线为grey色，线宽为0.5\n",
    "]\n",
    "table = Table([['第一行第一列','第二列'],[123,456]], colWidths=50, style=table_style)\n",
    "contents.append(table)\n",
    "\n",
    "text = '''<para autoLeading=\"off\" fontSize=8><font face=\"hei\" >九月-海子</font><br/>\n",
    " <font face=\"hei\" color=red>目击众神死亡的草原上野花一片</font><br/>\n",
    " <font face=\"hei\" fontsize=7>远在远方的风比远方更远</font><br/>\n",
    "\n",
    " </para>'''\n",
    "\n",
    "contents.append(Paragraph(text,mystyle))\n",
    "\n",
    "pdf.build(contents) #生成pdf"
   ]
  }
 ],
 "metadata": {
  "kernelspec": {
   "display_name": "Python 3",
   "language": "python",
   "name": "python3"
  },
  "language_info": {
   "codemirror_mode": {
    "name": "ipython",
    "version": 3
   },
   "file_extension": ".py",
   "mimetype": "text/x-python",
   "name": "python",
   "nbconvert_exporter": "python",
   "pygments_lexer": "ipython3",
   "version": "3.7.7"
  }
 },
 "nbformat": 4,
 "nbformat_minor": 4
}
