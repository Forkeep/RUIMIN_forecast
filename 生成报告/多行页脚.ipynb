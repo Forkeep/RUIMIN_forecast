{
 "cells": [
  {
   "cell_type": "code",
   "execution_count": 2,
   "metadata": {},
   "outputs": [],
   "source": [
    "from reportlab.lib.pagesizes import letter\n",
    "from reportlab.lib.styles import getSampleStyleSheet\n",
    "from reportlab.platypus import BaseDocTemplate, Frame, PageTemplate, Paragraph\n",
    "\n",
    "styles = getSampleStyleSheet()\n",
    "styleN = styles['Normal']\n",
    "styleH = styles['Heading1']\n",
    "\n",
    "def footer(canvas, doc):\n",
    "    canvas.saveState()\n",
    "    P = Paragraph(\"This is a multi-line footer.  It goes on every page.  \" * 5,styleN)\n",
    "    w, h = P.wrap(doc.width, doc.bottomMargin)\n",
    "    P.drawOn(canvas, doc.rightMargin, h)\n",
    "    canvas.restoreState()\n",
    "\n",
    "doc = BaseDocTemplate('页脚.pdf', pagesize=letter)\n",
    "frame = Frame(doc.rightMargin, doc.bottomMargin, doc.width, doc.height,\n",
    "               id='normal')\n",
    "template = PageTemplate(id='test', frames=frame, onPage=footer)\n",
    "doc.addPageTemplates([template])\n",
    "\n",
    "text = []\n",
    "for i in range(111):\n",
    "    text.append(Paragraph(\"This is line %d.\" % i,\n",
    "                          styleN))\n",
    "doc.build(text)"
   ]
  }
 ],
 "metadata": {
  "kernelspec": {
   "display_name": "Python 3",
   "language": "python",
   "name": "python3"
  },
  "language_info": {
   "codemirror_mode": {
    "name": "ipython",
    "version": 3
   },
   "file_extension": ".py",
   "mimetype": "text/x-python",
   "name": "python",
   "nbconvert_exporter": "python",
   "pygments_lexer": "ipython3",
   "version": "3.7.7"
  }
 },
 "nbformat": 4,
 "nbformat_minor": 4
}
