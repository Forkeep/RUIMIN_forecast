{
 "cells": [
  {
   "cell_type": "code",
   "execution_count": 3,
   "metadata": {},
   "outputs": [],
   "source": [
    "from reportlab.pdfgen import canvas\n",
    "from reportlab.lib.units import cm\n",
    "from reportlab.pdfbase import pdfmetrics\n",
    "from reportlab.pdfbase.cidfonts import UnicodeCIDFont\n",
    "pdfmetrics.registerFont(UnicodeCIDFont('STSong-Light'))\n",
    "from reportlab.lib.styles import getSampleStyleSheet, ParagraphStyle\n",
    "from reportlab.platypus import BaseDocTemplate, Frame, PageTemplate, Paragraph, Spacer, Table, LongTable, TableStyle, tableofcontents, PageBreak\n",
    "\n",
    "from reportlab.lib.styles import getSampleStyleSheet\n",
    "stylesheet=getSampleStyleSheet()\n",
    "normalStyle = stylesheet['Normal']\n",
    "\n",
    "\n",
    "def footer(canvas, doc):\n",
    "    \"\"\"\n",
    "    设置页脚\n",
    "    :param canvas:Canvas类型  pdf画布\n",
    "    :param doc:doc类型   整个pdf文件\n",
    "    \"\"\"\n",
    "    canvas.saveState()                                                                                    #先保存当前的画布状态\n",
    "    pageNumber = (\"%s\" %canvas.getPageNumber())                                                           #获取当前的页码\n",
    "    p = Paragraph(pageNumber, styleN)\n",
    "    w, h = p.wrap(1*cm, 1*cm)                                                                             #申请一块1cm大小的空间，返回值是实际使用的空间\n",
    "    p.drawOn(canvas, foot_coordinate_x, foot_coordinate_y)                                                #将页码放在指示坐标处\n",
    "    canvas.restoreState()\n",
    "    \n",
    "    \n",
    "def header(canvas, doc):\n",
    "    \"\"\"\n",
    "    设置页眉\n",
    "    :param canvas:Canvas类型  pdf画布\n",
    "    :param doc:doc类型     整个pdf文件\n",
    "    \"\"\"\n",
    "    canvas.saveState()\n",
    "#     p = Paragraph(\"<img src='%s' width='%d' height='%d'/>\" %(img_address, header_img_width, header_img_height), styleN)  #使用一个Paragraph Flowable存放图片\n",
    "#     w, h = p.wrap(doc.width, doc.bottomMargin)\n",
    "    p.drawOn(canvas, doc.leftMargin, doc.topMargin + doc.height - 0.5*cm)                                                #放置图片\n",
    "    p = Paragraph(\"<font size=10 face='STSong-Light'>报告</font>\", styleN)\n",
    "    w,h = p.wrap(doc.width, doc.bottomMargin)\n",
    "    p.drawOn(canvas, doc.leftMargin+doc.width-2.2*cm, doc.topMargin+ doc.height-0.3*cm)                                  #放置报告这句话\n",
    "    canvas.line(doc.leftMargin, doc.bottomMargin+doc.height + 0.5*cm, doc.leftMargin+doc.width, doc.bottomMargin+doc.height + 0.5*cm) #画一条横线\n",
    "    canvas.restoreState()\n",
    "    \n",
    "filename='a.pdf'\n",
    "doc = BaseDocTemplate(filename, topMargin = 3.5*cm)    #声明一个文档模版类，filename就是存放pdf的地址，\n",
    "frame_footer = Frame(doc.leftMargin, doc.bottomMargin, doc.width, doc.height, id='normal')   #声明一块Frame，存放页码\n",
    "template = PageTemplate(id='test', frames=frame_footer, onPage=header, onPageEnd=footer)         #设置页面模板，在加载页面时先运行herder函数，在加载完页面后运行footer函数\n",
    "doc.addPageTemplates([template]) \n",
    "\n",
    "text = []\n",
    "doc.build(text)"
   ]
  }
 ],
 "metadata": {
  "kernelspec": {
   "display_name": "Python 3",
   "language": "python",
   "name": "python3"
  },
  "language_info": {
   "codemirror_mode": {
    "name": "ipython",
    "version": 3
   },
   "file_extension": ".py",
   "mimetype": "text/x-python",
   "name": "python",
   "nbconvert_exporter": "python",
   "pygments_lexer": "ipython3",
   "version": "3.7.7"
  }
 },
 "nbformat": 4,
 "nbformat_minor": 4
}
