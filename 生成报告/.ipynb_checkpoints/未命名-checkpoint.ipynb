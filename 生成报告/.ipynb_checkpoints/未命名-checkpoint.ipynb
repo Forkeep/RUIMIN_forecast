{
 "cells": [
  {
   "cell_type": "code",
   "execution_count": 1,
   "metadata": {},
   "outputs": [],
   "source": [
    "from reportlab.pdfgen import canvas \n",
    "c= canvas.Canvas(\"hello.pdf\")                              \n",
    "c.drawString(100,100,\"Welcome to Reportlab\")    \n",
    "c.drawString(100,300,\"Welcome to Reportlab\")               \n",
    "c.showPage()                  \n",
    "c.drawString(100,400,\"Welcome to Reportlab\")                                  \n",
    "c.save()"
   ]
  }
 ],
 "metadata": {
  "kernelspec": {
   "display_name": "Python 3",
   "language": "python",
   "name": "python3"
  },
  "language_info": {
   "codemirror_mode": {
    "name": "ipython",
    "version": 3
   },
   "file_extension": ".py",
   "mimetype": "text/x-python",
   "name": "python",
   "nbconvert_exporter": "python",
   "pygments_lexer": "ipython3",
   "version": "3.7.7"
  }
 },
 "nbformat": 4,
 "nbformat_minor": 4
}
