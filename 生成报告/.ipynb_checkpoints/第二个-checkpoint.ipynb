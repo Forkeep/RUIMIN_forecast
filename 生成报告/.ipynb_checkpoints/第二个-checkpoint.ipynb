{
 "cells": [
  {
   "cell_type": "code",
   "execution_count": 10,
   "metadata": {},
   "outputs": [],
   "source": [
    "# 基础包\n",
    "from reportlab.lib.styles import getSampleStyleSheet\n",
    "from reportlab.platypus import Paragraph, SimpleDocTemplate, Spacer\n",
    "from reportlab.lib.units import inch\n",
    "# 中文支持\n",
    "from reportlab.pdfbase.ttfonts import TTFont\n",
    "from reportlab.pdfbase import pdfmetrics\n",
    "from reportlab.lib.styles import ParagraphStyle\n",
    "from reportlab.lib.enums import TA_CENTER, TA_LEFT\n",
    "\n",
    "\n",
    "\n",
    "\n",
    "pdfmetrics.registerFont(TTFont('apple', 'Apple Braille Outline 8 Dot.ttf')) #注册字体\n",
    "mystyle = ParagraphStyle(name=\"user_style\", fontName=\"apple\",alignment=TA_CENTER,)\n",
    "pdf = SimpleDocTemplate('001.pdf')\n",
    "# style = getSampleStyleSheet()\n",
    "# mystyle = style['Normal'] #默认样式，可以使用style.lsit()查看所有默认样式\n",
    "contents = []\n",
    "t1 = Paragraph('你好 reportlab!', style=mystyle)\n",
    "contents.append(t1)\n",
    "contents.append(Spacer(1,0.2*inch))\n",
    "contents.append(t1)\n",
    "contents.append(Spacer(1,0.2*inch))\n",
    "str1=\"\"\"目击众神死亡的草原上野花一片\n",
    "远在远方的风比远方更远\n",
    "我的琴声呜咽 泪水全无\n",
    "我把这远方的远归还草原\n",
    "一个叫木头 一个叫马尾\n",
    "我的琴声呜咽 泪水全无\n",
    "\"\"\"\n",
    "for i in str1.split('\\n'):\n",
    "    contents.append(Paragraph(i, style=mystyle))\n",
    "\n",
    "contents.append(t1)\n",
    "contents.append(Spacer(1,0.2*inch))\n",
    "contents.append(t1)\n",
    "contents.append(t1)\n",
    "contents.append(t1)\n",
    "pdf.build(contents) #生成pdf"
   ]
  }
 ],
 "metadata": {
  "kernelspec": {
   "display_name": "Python 3",
   "language": "python",
   "name": "python3"
  },
  "language_info": {
   "codemirror_mode": {
    "name": "ipython",
    "version": 3
   },
   "file_extension": ".py",
   "mimetype": "text/x-python",
   "name": "python",
   "nbconvert_exporter": "python",
   "pygments_lexer": "ipython3",
   "version": "3.7.7"
  }
 },
 "nbformat": 4,
 "nbformat_minor": 4
}
