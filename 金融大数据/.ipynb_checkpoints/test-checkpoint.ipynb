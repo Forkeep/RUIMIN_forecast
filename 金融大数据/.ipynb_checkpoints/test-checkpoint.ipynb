{
 "cells": [
  {
   "cell_type": "code",
   "execution_count": 3,
   "metadata": {},
   "outputs": [
    {
     "ename": "ImportError",
     "evalue": "cannot import name 'Client' from 'dataapi_linux36' (/Users/lizhe/个人桌面/实验室和研究生/中铝项目汇总/2021出差新指标预测/金属价格预测/金融大数据/dataapi_linux36.py)",
     "output_type": "error",
     "traceback": [
      "\u001b[0;31m---------------------------------------------------------------------------\u001b[0m",
      "\u001b[0;31mImportError\u001b[0m                               Traceback (most recent call last)",
      "\u001b[0;32m<ipython-input-3-651eaaaa44cb>\u001b[0m in \u001b[0;36m<module>\u001b[0;34m\u001b[0m\n\u001b[1;32m      1\u001b[0m \u001b[0;31m# -*- coding: utf-8 -*-\u001b[0m\u001b[0;34m\u001b[0m\u001b[0;34m\u001b[0m\u001b[0;34m\u001b[0m\u001b[0m\n\u001b[0;32m----> 2\u001b[0;31m \u001b[0;32mfrom\u001b[0m \u001b[0mdataapi_linux36\u001b[0m \u001b[0;32mimport\u001b[0m \u001b[0mClient\u001b[0m\u001b[0;34m\u001b[0m\u001b[0;34m\u001b[0m\u001b[0m\n\u001b[0m\u001b[1;32m      3\u001b[0m \u001b[0;32mif\u001b[0m \u001b[0m__name__\u001b[0m \u001b[0;34m==\u001b[0m \u001b[0;34m\"__main__\"\u001b[0m\u001b[0;34m:\u001b[0m\u001b[0;34m\u001b[0m\u001b[0;34m\u001b[0m\u001b[0m\n\u001b[1;32m      4\u001b[0m     \u001b[0;32mtry\u001b[0m\u001b[0;34m:\u001b[0m\u001b[0;34m\u001b[0m\u001b[0;34m\u001b[0m\u001b[0m\n\u001b[1;32m      5\u001b[0m         \u001b[0mclient\u001b[0m \u001b[0;34m=\u001b[0m \u001b[0mClient\u001b[0m\u001b[0;34m(\u001b[0m\u001b[0;34m)\u001b[0m\u001b[0;34m\u001b[0m\u001b[0;34m\u001b[0m\u001b[0m\n",
      "\u001b[0;31mImportError\u001b[0m: cannot import name 'Client' from 'dataapi_linux36' (/Users/lizhe/个人桌面/实验室和研究生/中铝项目汇总/2021出差新指标预测/金属价格预测/金融大数据/dataapi_linux36.py)"
     ]
    }
   ],
   "source": [
    "# -*- coding: utf-8 -*-\n",
    "from dataapi_linux36 import Client\n",
    "if __name__ == \"__main__\":\n",
    "    try:\n",
    "        client = Client()\n",
    "        client.init('your token')\n",
    "\t\t#调用股票基本信息(仅供参考)\n",
    "        url1='/api/equity/getEqu.json?field=&listStatusCD=&secID=&ticker=&equTypeCD=A'\n",
    "        code, result = client.getData(url1)#调用getData函数获取数据，数据以字符串的形式返回\n",
    "        if code==200:\n",
    "            print(result.decode('utf-8'))#url1须为json格式，才可使用utf-8编码\n",
    "\t\t\t#pd_data=pd.DataFrame(eval(result)['data'])#将数据转化为DataFrame格式\n",
    "        else:\n",
    "            print (code)\n",
    "            print (result)\n",
    "\t\t#调取沪深股票ST标记数据\n",
    "        url2='/api/equity/getSecST.csv?field=&secID=&ticker=000521&beginDate=20020101&endDate=20150828'\n",
    "        code, result = client.getData(url2)\n",
    "        if(code==200):\n",
    "            file_object = open('thefile.csv', 'w')\n",
    "            file_object.write(result.decode('GBK'))#url2须为csv格式才可使用GBK编码，写入到getSecST.csv文件\n",
    "            file_object.close( )\n",
    "        else:\n",
    "            print (code)\n",
    "            print (result) \n",
    "    except Exception as e:\n",
    "        #traceback.print_exc()\n",
    "        raise e"
   ]
  }
 ],
 "metadata": {
  "kernelspec": {
   "display_name": "Python 3",
   "language": "python",
   "name": "python3"
  },
  "language_info": {
   "codemirror_mode": {
    "name": "ipython",
    "version": 3
   },
   "file_extension": ".py",
   "mimetype": "text/x-python",
   "name": "python",
   "nbconvert_exporter": "python",
   "pygments_lexer": "ipython3",
   "version": "3.7.7"
  }
 },
 "nbformat": 4,
 "nbformat_minor": 4
}
