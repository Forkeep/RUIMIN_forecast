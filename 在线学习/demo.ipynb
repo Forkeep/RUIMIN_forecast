{
 "cells": [
  {
   "cell_type": "code",
   "execution_count": 19,
   "metadata": {},
   "outputs": [],
   "source": [
    "import numpy as np\n",
    "import pandas as pd\n",
    "import warnings\n",
    "\n",
    "warnings.filterwarnings('ignore')\n",
    "book_ratings = pd.read_csv('data/BX-CSV-Dump/BX-Book-Ratings.csv', sep=';')\n",
    "# books = pd.read_csv('BX-Books1.csv', sep=';')\n",
    "users = pd.read_csv('data/BX-CSV-Dump/BX-Users.csv', sep=';')"
   ]
  },
  {
   "cell_type": "code",
   "execution_count": 20,
   "metadata": {},
   "outputs": [
    {
     "data": {
      "text/plain": [
       "(278858, 3)"
      ]
     },
     "execution_count": 20,
     "metadata": {},
     "output_type": "execute_result"
    }
   ],
   "source": [
    "\n",
    "book_ratings.sample(10)\n",
    "users.sample(10)\n",
    "book_ratings.isnull().sum(), users.isnull().sum()\n",
    "users.shape\n"
   ]
  },
  {
   "cell_type": "code",
   "execution_count": 21,
   "metadata": {},
   "outputs": [],
   "source": [
    "# 填充用户评分的空值为0\n",
    "book_ratings.fillna(0.0, inplace=True)\n",
    "# 用户的年龄用均值填充，由于缺失数量大，但是特征重要\n",
    "users['Age'].fillna(users['Age'].mean(), inplace=True)\n",
    "# 只要国家，不要详情的地区了\n",
    "users['Location'] = users['Location'].str.split(',').apply(lambda str_list:str_list[-1])\n",
    "# users.Location.value_counts()\n",
    "# 国家也不要了\n",
    "users.drop('Location', axis=1, inplace=True)\n",
    "dataset = pd.merge(book_ratings, users, on='User-ID')\n",
    "dataset[dataset['Book-Rating'] > 0].shape\n",
    "# 处理标签\n",
    "# dataset['Book-Rating'].apply(lambda x:1 if x>0 else 0).value_counts()\n",
    "dataset['Book-Rating'] = dataset['Book-Rating'].apply(lambda x:1 if x>0 else 0)\n",
    "\n",
    "user_item, data = dataset[['User-ID', 'ISBN']], dataset[['Book-Rating', 'Age']]\n"
   ]
  },
  {
   "cell_type": "code",
   "execution_count": 22,
   "metadata": {},
   "outputs": [],
   "source": [
    "# 取出 1/10 作为后面要增量训练的数据\n",
    "online_learning_train, train = data[:114978], data[114978:]\n",
    "\n",
    "\n",
    "from sklearn.model_selection import train_test_split\n",
    "\n",
    "X, y = train.drop(columns=['Book-Rating']), train['Book-Rating']\n",
    "X_train, X_test, y_train, y_test = train_test_split(X, y, test_size=0.2)\n"
   ]
  },
  {
   "cell_type": "code",
   "execution_count": 31,
   "metadata": {},
   "outputs": [],
   "source": [
    "from sklearn.linear_model import SGDClassifier"
   ]
  },
  {
   "cell_type": "code",
   "execution_count": 32,
   "metadata": {},
   "outputs": [
    {
     "name": "stdout",
     "output_type": "stream",
     "text": [
      "CPU times: user 6.13 s, sys: 53.8 ms, total: 6.19 s\n",
      "Wall time: 6.53 s\n"
     ]
    }
   ],
   "source": [
    "%%time\n",
    "lr_sgd = SGDClassifier(loss='log', warm_start=True).fit(X_train, y_train)"
   ]
  },
  {
   "cell_type": "code",
   "execution_count": 33,
   "metadata": {},
   "outputs": [
    {
     "data": {
      "text/plain": [
       "0.6280796865109851"
      ]
     },
     "execution_count": 33,
     "metadata": {},
     "output_type": "execute_result"
    }
   ],
   "source": [
    "lr_sgd.score(X_test, y_test)\n"
   ]
  },
  {
   "cell_type": "code",
   "execution_count": 34,
   "metadata": {},
   "outputs": [],
   "source": [
    "def get_batch(online_learning_train):\n",
    "    for row in online_learning_train.iterrows():\n",
    "        # 生成器，每次返回一个要训练的样本\n",
    "        yield row[1]['Book-Rating'], row[1]['Age']\n",
    "        \n",
    "batch_generator = get_batch(online_learning_train)"
   ]
  },
  {
   "cell_type": "code",
   "execution_count": 35,
   "metadata": {},
   "outputs": [
    {
     "data": {
      "text/plain": [
       "SGDClassifier(loss='log', warm_start=True)"
      ]
     },
     "execution_count": 35,
     "metadata": {},
     "output_type": "execute_result"
    }
   ],
   "source": [
    "# 增量更新模型\n",
    "label, feature = next(batch_generator)\n",
    "lr_sgd.partial_fit([[feature]], [label])"
   ]
  },
  {
   "cell_type": "code",
   "execution_count": 36,
   "metadata": {},
   "outputs": [
    {
     "data": {
      "text/plain": [
       "SGDClassifier(loss='log', warm_start=True)"
      ]
     },
     "execution_count": 36,
     "metadata": {},
     "output_type": "execute_result"
    }
   ],
   "source": [
    "SGDClassifier(alpha=0.0001, average=False, class_weight=None,\n",
    "              early_stopping=False, epsilon=0.1, eta0=0.0, fit_intercept=True,\n",
    "              l1_ratio=0.15, learning_rate='optimal', loss='log', max_iter=1000,\n",
    "              n_iter_no_change=5, n_jobs=None, penalty='l2', power_t=0.5,\n",
    "              random_state=None, shuffle=True, tol=0.001,\n",
    "              validation_fraction=0.1, verbose=0, warm_start=True)"
   ]
  },
  {
   "cell_type": "code",
   "execution_count": 37,
   "metadata": {},
   "outputs": [
    {
     "name": "stdout",
     "output_type": "stream",
     "text": [
      "0.6280796865109851\n",
      "[[-0.02085006]]\n",
      "0.6280796865109851\n",
      "[[-0.02236489]]\n",
      "0.6280796865109851\n",
      "[[-0.01956109]]\n",
      "0.6280796865109851\n",
      "[[-0.01680143]]\n",
      "0.6280796865109851\n",
      "[[-0.01968254]]\n",
      "0.6280796865109851\n",
      "[[-0.01294196]]\n",
      "0.6280796865109851\n",
      "[[-0.01064327]]\n",
      "0.6280796865109851\n",
      "[[-0.00452945]]\n",
      "0.6280796865109851\n",
      "[[-0.00019888]]\n",
      "0.6280796865109851\n",
      "[[-0.00421519]]\n",
      "0.6280796865109851\n",
      "[[-0.00791561]]\n",
      "0.6280796865109851\n",
      "[[-0.01133285]]\n",
      "0.6280796865109851\n",
      "[[-0.01449704]]\n",
      "0.6280796865109851\n",
      "[[-0.01743536]]\n",
      "0.6280796865109851\n",
      "[[-0.02017197]]\n",
      "0.6280796865109851\n",
      "[[-0.0155741]]\n",
      "0.6280796865109851\n",
      "[[-0.01785704]]\n",
      "0.6280796865109851\n",
      "[[-0.02005468]]\n",
      "0.6280796865109851\n",
      "[[-0.01546106]]\n",
      "0.6280796865109851\n",
      "[[-0.01103756]]\n"
     ]
    }
   ],
   "source": [
    "for i in range(20):\n",
    "    label, feature = next(batch_generator)\n",
    "    lr_sgd = lr_sgd.partial_fit([[feature]], [label])# 注意要返回这个对象\n",
    "    print(lr_sgd.score(X_test, y_test))\n",
    "    print(lr_sgd.coef_)"
   ]
  }
 ],
 "metadata": {
  "kernelspec": {
   "display_name": "Python 3",
   "language": "python",
   "name": "python3"
  },
  "language_info": {
   "codemirror_mode": {
    "name": "ipython",
    "version": 3
   },
   "file_extension": ".py",
   "mimetype": "text/x-python",
   "name": "python",
   "nbconvert_exporter": "python",
   "pygments_lexer": "ipython3",
   "version": "3.7.7"
  }
 },
 "nbformat": 4,
 "nbformat_minor": 4
}
